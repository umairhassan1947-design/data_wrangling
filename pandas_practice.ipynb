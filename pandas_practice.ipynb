{
 "cells": [
  {
   "cell_type": "markdown",
   "id": "1dea1b59",
   "metadata": {},
   "source": [
    "In this file we will learn basic manuipulation of variables using Pandas\n"
   ]
  },
  {
   "cell_type": "code",
   "execution_count": null,
   "id": "1de76723",
   "metadata": {},
   "outputs": [
    {
     "name": "stdout",
     "output_type": "stream",
     "text": [
      "   calories  walk time\n",
      "0       120         20\n",
      "1       250         40\n",
      "2       600         80\n"
     ]
    }
   ],
   "source": [
    "import pandas as pd\n",
    "import matplotlib.pyplot as plt\n",
    "data = {\"calories\": [120,250,600], \"walk time\":[20,40,80]}\n",
    "df = pd.DataFrame(data)\n",
    "print(df)\n",
    "\n",
    "plt.plot(df[\"walk time\"],df['calories'],marker = '0')\n",
    "plt.xlabel(\"walk time (minutes)\")\n",
    "plt.ylabel(\"calories burned\")\n",
    "plt.title(\"calories burned vs walk time\")\n",
    "\n",
    "plt.show()"
   ]
  },
  {
   "cell_type": "code",
   "execution_count": null,
   "id": "11927884",
   "metadata": {},
   "outputs": [],
   "source": []
  },
  {
   "cell_type": "code",
   "execution_count": null,
   "id": "91d83fa2",
   "metadata": {},
   "outputs": [],
   "source": []
  }
 ],
 "metadata": {
  "kernelspec": {
   "display_name": "Python 3",
   "language": "python",
   "name": "python3"
  },
  "language_info": {
   "codemirror_mode": {
    "name": "ipython",
    "version": 3
   },
   "file_extension": ".py",
   "mimetype": "text/x-python",
   "name": "python",
   "nbconvert_exporter": "python",
   "pygments_lexer": "ipython3",
   "version": "3.11.4"
  }
 },
 "nbformat": 4,
 "nbformat_minor": 5
}
