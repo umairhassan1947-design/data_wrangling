{
 "cells": [
  {
   "cell_type": "markdown",
   "id": "1dea1b59",
   "metadata": {},
   "source": [
    "In this file we will learn basic manuipulation of variables using Pandas\n"
   ]
  },
  {
   "cell_type": "code",
   "execution_count": null,
   "id": "1de76723",
   "metadata": {},
   "outputs": [
    {
     "name": "stdout",
     "output_type": "stream",
     "text": [
      "   calories  walk time\n",
      "0       120         20\n",
      "1       250         40\n",
      "2       600         80\n"
     ]
    },
    {
     "data": {
      "image/png": "[encoded data removed]",
      "text/plain": [
       "<Figure size 640x480 with 1 Axes>"
      ]
     },
     "metadata": {},
     "output_type": "display_data"
    },
    {
     "name": "stdout",
     "output_type": "stream",
     "text": [
      "   calories  walk time\n",
      "0       120         20\n"
     ]
    }
   ],
   "source": [
    "import pandas as pd\n",
    "import matplotlib.pyplot as plt\n",
    "data = {\"calories\": [120,250,600], \"walk time\":[20,40,80]}\n",
    "df = pd.DataFrame(data)\n",
    "print(df)\n",
    "\n",
    "plt.scatter(df[\"walk time\"],df['calories']) #making a scatter plot, just like this we can make a plot as well(line).\n",
    "plt.xlabel(\"walk time (minutes)\") #setting x and y label and giving title to chart\n",
    "plt.ylabel(\"calories burned\")\n",
    "plt.title(\"calories burned vs walk time\")\n",
    "\n",
    "plt.show() #just like print but it shows the plot\n",
    "print(df.loc[[0]]) #printing a specific row"
   ]
  },
  {
   "cell_type": "code",
   "execution_count": null,
   "id": "11927884",
   "metadata": {},
   "outputs": [
    {
     "name": "stdout",
     "output_type": "stream",
     "text": [
      "     PassengerId  Survived  Pclass                                      Name  \\\n",
      "0              1         0       3                   Braund, Mr. Owen Harris   \n",
      "2              3         1       3                    Heikkinen, Miss. Laina   \n",
      "4              5         0       3                  Allen, Mr. William Henry   \n",
      "5              6         0       3                          Moran, Mr. James   \n",
      "7              8         0       3            Palsson, Master. Gosta Leonard   \n",
      "..           ...       ...     ...                                       ...   \n",
      "884          885         0       3                    Sutehall, Mr. Henry Jr   \n",
      "885          886         0       3      Rice, Mrs. William (Margaret Norton)   \n",
      "886          887         0       2                     Montvila, Rev. Juozas   \n",
      "888          889         0       3  Johnston, Miss. Catherine Helen \"Carrie\"   \n",
      "890          891         0       3                       Dooley, Mr. Patrick   \n",
      "\n",
      "        Sex   Age  SibSp  Parch            Ticket     Fare Cabin Embarked  \n",
      "0      male  22.0      1      0         A/5 21171   7.2500   NaN        S  \n",
      "2    female  26.0      0      0  STON/O2. 3101282   7.9250   NaN        S  \n",
      "4      male  35.0      0      0            373450   8.0500   NaN        S  \n",
      "5      male   NaN      0      0            330877   8.4583   NaN        Q  \n",
      "7      male   2.0      3      1            349909  21.0750   NaN        S  \n",
      "..      ...   ...    ...    ...               ...      ...   ...      ...  \n",
      "884    male  25.0      0      0   SOTON/OQ 392076   7.0500   NaN        S  \n",
      "885  female  39.0      0      5            382652  29.1250   NaN        Q  \n",
      "886    male  27.0      0      0            211536  13.0000   NaN        S  \n",
      "888  female   NaN      1      2        W./C. 6607  23.4500   NaN        S  \n",
      "890    male  32.0      0      0            370376   7.7500   NaN        Q  \n",
      "\n",
      "[708 rows x 12 columns]\n",
      "177\n",
      "0      False\n",
      "1      False\n",
      "2      False\n",
      "3      False\n",
      "4      False\n",
      "       ...  \n",
      "886    False\n",
      "887    False\n",
      "888    False\n",
      "889    False\n",
      "890    False\n",
      "Length: 891, dtype: bool\n"
     ]
    },
    {
     "data": {
      "application/vnd.microsoft.datawrangler.viewer.v0+json": {
       "columns": [
        {
         "name": "index",
         "rawType": "object",
         "type": "string"
        },
        {
         "name": "PassengerId",
         "rawType": "float64",
         "type": "float"
        },
        {
         "name": "Survived",
         "rawType": "float64",
         "type": "float"
        },
        {
         "name": "Pclass",
         "rawType": "float64",
         "type": "float"
        },
        {
         "name": "Age",
         "rawType": "float64",
         "type": "float"
        },
        {
         "name": "SibSp",
         "rawType": "float64",
         "type": "float"
        },
        {
         "name": "Parch",
         "rawType": "float64",
         "type": "float"
        },
        {
         "name": "Fare",
         "rawType": "float64",
         "type": "float"
        }
       ],
       "ref": "0f06ba15-e8c0-42dd-af28-9d961a6111ca",
       "rows": [
        [
         "PassengerId",
         "1.0",
         "-0.0050066607670665175",
         "-0.03514399403038102",
         "0.033115557785143204",
         "-0.0575268337844415",
         "-0.0016520124027188366",
         "0.012658219287491099"
        ],
        [
         "Survived",
         "-0.0050066607670665175",
         "1.0",
         "-0.33848103596101514",
         "-0.08750825593516523",
         "-0.035322498885735576",
         "0.08162940708348335",
         "0.2573065223849626"
        ],
        [
         "Pclass",
         "-0.03514399403038102",
         "-0.33848103596101514",
         "1.0",
         "-0.24078543572762745",
         "0.08308136284568686",
         "0.018442671310748508",
         "-0.5494996199439076"
        ],
        [
         "Age",
         "0.033115557785143204",
         "-0.08750825593516523",
         "-0.24078543572762745",
         "1.0",
         "-0.2867562783976769",
         "-0.2677351470627304",
         "0.06123506008610847"
        ],
        [
         "SibSp",
         "-0.0575268337844415",
         "-0.035322498885735576",
         "0.08308136284568686",
         "-0.2867562783976769",
         "1.0",
         "0.41483769862015624",
         "0.159651043242161"
        ],
        [
         "Parch",
         "-0.0016520124027188366",
         "0.08162940708348335",
         "0.018442671310748508",
         "-0.2677351470627304",
         "0.41483769862015624",
         "1.0",
         "0.21622494477076448"
        ],
        [
         "Fare",
         "0.012658219287491099",
         "0.2573065223849626",
         "-0.5494996199439076",
         "0.06123506008610847",
         "0.159651043242161",
         "0.21622494477076448",
         "1.0"
        ]
       ],
       "shape": {
        "columns": 7,
        "rows": 7
       }
      },
      "text/html": [
       "<div>\n",
       "<style scoped>\n",
       "    .dataframe tbody tr th:only-of-type {\n",
       "        vertical-align: middle;\n",
       "    }\n",
       "\n",
       "    .dataframe tbody tr th {\n",
       "        vertical-align: top;\n",
       "    }\n",
       "\n",
       "    .dataframe thead th {\n",
       "        text-align: right;\n",
       "    }\n",
       "</style>\n",
       "<table border=\"1\" class=\"dataframe\">\n",
       "  <thead>\n",
       "    <tr style=\"text-align: right;\">\n",
       "      <th></th>\n",
       "      <th>PassengerId</th>\n",
       "      <th>Survived</th>\n",
       "      <th>Pclass</th>\n",
       "      <th>Age</th>\n",
       "      <th>SibSp</th>\n",
       "      <th>Parch</th>\n",
       "      <th>Fare</th>\n",
       "    </tr>\n",
       "  </thead>\n",
       "  <tbody>\n",
       "    <tr>\n",
       "      <th>PassengerId</th>\n",
       "      <td>1.000000</td>\n",
       "      <td>-0.005007</td>\n",
       "      <td>-0.035144</td>\n",
       "      <td>0.033116</td>\n",
       "      <td>-0.057527</td>\n",
       "      <td>-0.001652</td>\n",
       "      <td>0.012658</td>\n",
       "    </tr>\n",
       "    <tr>\n",
       "      <th>Survived</th>\n",
       "      <td>-0.005007</td>\n",
       "      <td>1.000000</td>\n",
       "      <td>-0.338481</td>\n",
       "      <td>-0.087508</td>\n",
       "      <td>-0.035322</td>\n",
       "      <td>0.081629</td>\n",
       "      <td>0.257307</td>\n",
       "    </tr>\n",
       "    <tr>\n",
       "      <th>Pclass</th>\n",
       "      <td>-0.035144</td>\n",
       "      <td>-0.338481</td>\n",
       "      <td>1.000000</td>\n",
       "      <td>-0.240785</td>\n",
       "      <td>0.083081</td>\n",
       "      <td>0.018443</td>\n",
       "      <td>-0.549500</td>\n",
       "    </tr>\n",
       "    <tr>\n",
       "      <th>Age</th>\n",
       "      <td>0.033116</td>\n",
       "      <td>-0.087508</td>\n",
       "      <td>-0.240785</td>\n",
       "      <td>1.000000</td>\n",
       "      <td>-0.286756</td>\n",
       "      <td>-0.267735</td>\n",
       "      <td>0.061235</td>\n",
       "    </tr>\n",
       "    <tr>\n",
       "      <th>SibSp</th>\n",
       "      <td>-0.057527</td>\n",
       "      <td>-0.035322</td>\n",
       "      <td>0.083081</td>\n",
       "      <td>-0.286756</td>\n",
       "      <td>1.000000</td>\n",
       "      <td>0.414838</td>\n",
       "      <td>0.159651</td>\n",
       "    </tr>\n",
       "    <tr>\n",
       "      <th>Parch</th>\n",
       "      <td>-0.001652</td>\n",
       "      <td>0.081629</td>\n",
       "      <td>0.018443</td>\n",
       "      <td>-0.267735</td>\n",
       "      <td>0.414838</td>\n",
       "      <td>1.000000</td>\n",
       "      <td>0.216225</td>\n",
       "    </tr>\n",
       "    <tr>\n",
       "      <th>Fare</th>\n",
       "      <td>0.012658</td>\n",
       "      <td>0.257307</td>\n",
       "      <td>-0.549500</td>\n",
       "      <td>0.061235</td>\n",
       "      <td>0.159651</td>\n",
       "      <td>0.216225</td>\n",
       "      <td>1.000000</td>\n",
       "    </tr>\n",
       "  </tbody>\n",
       "</table>\n",
       "</div>"
      ],
      "text/plain": [
       "             PassengerId  Survived    Pclass       Age     SibSp     Parch  \\\n",
       "PassengerId     1.000000 -0.005007 -0.035144  0.033116 -0.057527 -0.001652   \n",
       "Survived       -0.005007  1.000000 -0.338481 -0.087508 -0.035322  0.081629   \n",
       "Pclass         -0.035144 -0.338481  1.000000 -0.240785  0.083081  0.018443   \n",
       "Age             0.033116 -0.087508 -0.240785  1.000000 -0.286756 -0.267735   \n",
       "SibSp          -0.057527 -0.035322  0.083081 -0.286756  1.000000  0.414838   \n",
       "Parch          -0.001652  0.081629  0.018443 -0.267735  0.414838  1.000000   \n",
       "Fare            0.012658  0.257307 -0.549500  0.061235  0.159651  0.216225   \n",
       "\n",
       "                 Fare  \n",
       "PassengerId  0.012658  \n",
       "Survived     0.257307  \n",
       "Pclass      -0.549500  \n",
       "Age          0.061235  \n",
       "SibSp        0.159651  \n",
       "Parch        0.216225  \n",
       "Fare         1.000000  "
      ]
     },
     "execution_count": 31,
     "metadata": {},
     "output_type": "execute_result"
    }
   ],
   "source": [
    "import pandas as pd\n",
    "import matplotlib.pyplot as plt\n",
    "df = pd.read_csv(\"Titanic-Dataset.csv\")\n",
    "print(df[df.isnull().any(axis=1)]) #shows all rows that has atleast one missing/null value.\n",
    "print(df[\"Age\"].isnull().sum())\n",
    "new_df = df.dropna() #drops all rows with missing values the missing values\n",
    "new_df.to_string()\n",
    "x= int(df[\"Age\"].mean())\n",
    "df.fillna({'Age':x},inplace = True)\n",
    "\n",
    "\n",
    "\n",
    "for x in df.index:\n",
    "    if df.loc[x,\"Age\"]>35:\n",
    "        df.loc[x,\"Age\"] = 34    # so this code basically says if there is age greater thanb 35 in age column just change it to 34\n",
    "\n",
    "print(df.duplicated()) #returns true if there is any duplicate\n",
    "df.corr(numeric_only=True) #gives correlation between numeric columns\n",
    "\n",
    "\n",
    "\n"
   ]
  },
  {
   "cell_type": "code",
   "execution_count": null,
   "id": "91d83fa2",
   "metadata": {},
   "outputs": [],
   "source": []
  },
  {
   "cell_type": "code",
   "execution_count": null,
   "id": "11817f94",
   "metadata": {},
   "outputs": [],
   "source": []
  }
 ],
 "metadata": {
  "kernelspec": {
   "display_name": "Python 3",
   "language": "python",
   "name": "python3"
  },
  "language_info": {
   "codemirror_mode": {
    "name": "ipython",
    "version": 3
   },
   "file_extension": ".py",
   "mimetype": "text/x-python",
   "name": "python",
   "nbconvert_exporter": "python",
   "pygments_lexer": "ipython3",
   "version": "3.11.4"
  }
 },
 "nbformat": 4,
 "nbformat_minor": 5
}
